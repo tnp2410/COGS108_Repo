{
  "nbformat": 4,
  "nbformat_minor": 0,
  "metadata": {
    "colab": {
      "provenance": [],
      "include_colab_link": true
    },
    "kernelspec": {
      "name": "python3",
      "display_name": "Python 3"
    },
    "language_info": {
      "name": "python"
    }
  },
  "cells": [
    {
      "cell_type": "markdown",
      "metadata": {
        "id": "view-in-github",
        "colab_type": "text"
      },
      "source": [
        "<a href=\"https://colab.research.google.com/github/tnp2410/COGS108_Repo/blob/main/ProjectProposal_group3.ipynb\" target=\"_parent\"><img src=\"https://colab.research.google.com/assets/colab-badge.svg\" alt=\"Open In Colab\"/></a>"
      ]
    },
    {
      "cell_type": "markdown",
      "source": [
        "COGS 108 - Final Project Proposal"
      ],
      "metadata": {
        "id": "nPy6xPyja7Ts"
      }
    },
    {
      "cell_type": "markdown",
      "source": [
        "## Names"
      ],
      "metadata": {
        "id": "cUxOCqh2bGze"
      }
    },
    {
      "cell_type": "markdown",
      "source": [
        "\n",
        "\n",
        "*   Adalina Ma\n",
        "*   Daniel Park\n",
        "* Joseph Guzman\n",
        "* Tracy Pham\n",
        "\n",
        "\n"
      ],
      "metadata": {
        "id": "TTYTQlfBcSgr"
      }
    },
    {
      "cell_type": "markdown",
      "source": [
        "# Research Question"
      ],
      "metadata": {
        "id": "yRiOP6j_c7Iz"
      }
    },
    {
      "cell_type": "markdown",
      "source": [
        "Research Question\n",
        "Include a specific, clear data science question.\n",
        "Make sure what you're measuring (variables) to answer the question is clear\n",
        "What is your research question? Include the specific question you're setting out to answer. This question should be specific, answerable with data, be related to data science and clear. A general question with specific subquestions is permitted. You should NOT include a prediction of what you think or assume the outcome will be. This is only a question. (1-2 sentences)\n",
        "\n",
        "Are there any specific attributes of a movie that can predict its overall box office performance, critic rating, and audience rating? More specifically, how does movie attributes such as genre, maturity rating, etc, correlate with how successful a movie performs?"
      ],
      "metadata": {
        "id": "HCjUkFegdC70"
      }
    },
    {
      "cell_type": "markdown",
      "source": [
        "# Background and Prior Work"
      ],
      "metadata": {
        "id": "54TkiYzxdDFt"
      }
    },
    {
      "cell_type": "markdown",
      "source": [
        "\n",
        "*   Include a general introduction to your topic\n",
        "* Include explanation of what work has been done previously\n",
        "* Include citations or links to previous work\n",
        "\n",
        "\n",
        "This section will present the background and context of your topic and question in a few paragraphs. Include a general introduction to your topic and then describe what information you currently know about the topic after doing your initial research. Include references to other projects who have asked similar questions or approached similar problems. Explain what others have learned in their projects.\n",
        "\n",
        "Find some relevant prior work, and reference those sources, summarizing what each did and what they learned. Even if you think you have a totally novel question, find the most similar prior work that you can and discuss how it relates to your project.\n",
        "\n",
        "References can be research publications, but they need not be. Blogs, GitHub repositories, company websites, etc., are all viable references if they are relevant to your project. It must be clear which information comes from which references. (2-3 paragraphs, including at least 2 references)\n",
        "Use inline citation through Markdown footnotes to specify which references support which statements\n",
        "\n",
        "For example:\n",
        "\n",
        "Traditional approaches to robotic manipulation in industry have relied upon simplifying the problem such that simple manipulators designed for a single purpose could be used (pinchers, pick-and-place machines, etc), however in order to bring robots into uncertain, changing environments with humans and in order to task them with multiple dynamic operations, a totally new approach must be considered[^simpkins2012].\n",
        "\n",
        "You need enough references to fully explain and back up important facts.\n",
        "\n",
        "[^simpkins2012]: Simpkins, C. (17 Aug 2012) Towards methods for robotic systems capable of human-level dexterity in manipulation and locomotion. International Conference on Mechatronic System and Measurement Technology. http://casimpkinsjr.radiantdolphinpress.com/files/simpkins_ICMSMT2012c.pdf\n",
        "\n",
        "References should be relevant to the project, not randomly chosen vaguely related topics. If possible you should include a web link as demonstrated above.\n",
        "\n",
        "\n",
        "\n",
        "Movies are one of the most prominent forms of media in the entertainment industry. The domestic film industry amassed a total of $5.99 billion USD in 2022 [Elad 2023]. This significant financial success reflects the widespread appeal and consumption of movies by audiences worldwide. While recent trends indicate a noticeable shift in viewership from traditional box office releases to home entertainment options like streaming platforms, the film industry continues to flourish. Movies are consistently being released to cater to the diverse tastes and preferences of audiences, offering a vast array of options to choose from. This raises an intriguing question regarding the specific elements of movies or the filmmaking process that contribute to improved box office performance or higher overall ratings, as evaluated by diverse movie rating websites.\n",
        "\n",
        "There has been prior work done on the topic of what makes a movie successful, in which the paper explores the increasing use of predictive analytics in the movie industry to forecast box office earnings, building upon prior research on the determinants of movie success. It delves into the process of estimating potential movie earnings by taking into account various factors such as budget, genre, top-billed star, and release timing. The study demonstrates the application of different predictive analysis techniques, including a vanilla partition model, random forest model, boosted tree model, support vector machine model, XG Boost model, and R part model, to showcase the effectiveness of data analysis in predicting financial success. Among the employed models, the random forest model emerged as the most accurate [Joseph 2019]. By acknowledging this finding, we can incorporate the insights gained from the paper's research to enhance the accuracy of our own analysis.\n",
        "\n",
        "\n",
        "[Elad 2023]: Elad, B. (8 February 2023). Film Industry Statistics – By The Distributor, Running Time, Demographic, Box Office Revenue. EnterpriseAppsToday. Retrieved from https://www.enterpriseappstoday.com/stats/film-industry-statistics.html#:~:text=Compared%20to%20the%20gaming%20industry,8.3%25%20by%20the%20year%202027\n",
        "[Joseph 2019]: Joseph, Sarah. (May 2018). What Makes a Movie Successful : Using Analytics to Study Box Office Hits. Retrieved from https://trace.tennessee.edu/cgi/viewcontent.cgi?article=3282&context=utk_chanhonoproj.\n",
        "\n"
      ],
      "metadata": {
        "id": "se8tQh-pdDH5"
      }
    },
    {
      "cell_type": "markdown",
      "source": [
        "# Hypothesis"
      ],
      "metadata": {
        "id": "AAzD5oMVdDKR"
      }
    },
    {
      "cell_type": "markdown",
      "source": [
        "* Include your team's research hypothesis and null hypothesis\n",
        "* Ensure that this hypothesis is clear and concise\n",
        "Your hypothesis should NOT include your interpretation or assumptions about an outcome, only the highly refined version of your question. Your interpretation should be determined by the analysis and results, and will be discussed in the conclusion of your report. (2-3 sentences)\n",
        "\n",
        "Hypothesis:\n",
        "There is a significant correlation between specific attributes of a movie, such as genre, maturity rating, etc., and its overall box office performance, critic rating, and audience rating. Different movie attributes will have varying degrees of influence on the success of a movie.\n",
        "\n",
        "Null Hypothesis:\n",
        "There is no significant correlation between specific attributes of a movie, such as genre, maturity rating, etc., and its overall box office performance, critic rating, and audience rating. The success of a movie is not influenced by any particular movie attribute, and any observed relationships are due to chance."
      ],
      "metadata": {
        "id": "OLYSZTJ-dDM0"
      }
    },
    {
      "cell_type": "markdown",
      "source": [
        "# Data"
      ],
      "metadata": {
        "id": "Q0bMib7mdDPX"
      }
    },
    {
      "cell_type": "markdown",
      "source": [
        "\n",
        "\n",
        "1.   Explain what is the ideal dataset for answering this question. (This should include: What variables? How many observations? Who/what/how would this data be collected? How would this data be stored/organized?)\n",
        "2. Search for potential real datasets that could provide you with something useful for this project. You do not have to find every piece of data you will use, but you do need to have demonstrated some idea that (a) this data is available and (b) that this data may be different from what your ideal is, and you are considering strategies to use or adapt it or adapt your question.\n",
        "\n",
        "The ideal dataset for answering this research question would include the following variables:\n",
        "\n",
        "1. Movie attributes: This would include variables such as genre, maturity rating, budget, production company, director, runtime, release date, and other relevant attributes that describe a movie.\n",
        "\n",
        "2. Box office performance: This variable would capture the financial success of a movie, such as its total gross revenue, opening weekend box office, and other related metrics.\n",
        "\n",
        "3. Critic rating: This variable would represent the aggregated ratings or scores given by professional film critics.\n",
        "\n",
        "4. Audience rating: This variable would capture the ratings or scores provided by the general movie-going audience, such as user ratings from popular review websites or audience polls.\n",
        "\n",
        "\n",
        "Data collection for this research question could be conducted through various methods, including:\n",
        "\n",
        "1. Movie databases: Online movie databases like IMDb, Box Office Mojo, or The Numbers can provide a wealth of information on movie attributes, box office performance, and ratings.\n",
        "  * https://developer.themoviedb.org/docs\n",
        "  * https://www.kaggle.com/datasets/danielgrijalvas/movies\n",
        "  * https://www.kaggle.com/datasets/ashirwadsangwan/imdb-dataset\n",
        "\n",
        "2. Movie review websites: Websites like Rotten Tomatoes or Metacritic provide aggregated critic and audience ratings for movies, which can be used as a source of data.\n",
        "  * https://www.kaggle.com/datasets/harshitshankhdhar/imdb-dataset-of-top-1000-movies-and-tv-shows\n",
        "  * https://www.kaggle.com/datasets/rajugc/imdb-top-250-movies-dataset\n",
        "  *\n",
        "\n",
        "3. Film industry reports: Industry reports or trade publications often contain detailed information on box office performance, budget, and other movie attributes.\n",
        "  * https://www.statista.com/topics/964/film/#topicOverview\n",
        "  * https://www.the-numbers.com/market/\n",
        "\n",
        "4. Surveys or questionnaires: Collecting data directly from moviegoers or critics through surveys or questionnaires can provide valuable insights into their perceptions and ratings.\n",
        "  * https://www.kaggle.com/datasets/stefanoleone992/rotten-tomatoes-movies-and-critic-reviews-dataset\n",
        "  * https://www.kaggle.com/datasets/andrezaza/clapper-massive-rotten-tomatoes-movies-and-reviews\n",
        "\n"
      ],
      "metadata": {
        "id": "vUo_zKowdDRz"
      }
    },
    {
      "cell_type": "markdown",
      "source": [
        "# Ethics & Privacy"
      ],
      "metadata": {
        "id": "uwqwl4dQdDTq"
      }
    },
    {
      "cell_type": "code",
      "source": [],
      "metadata": {
        "id": "rKWfCfsNtYaG"
      },
      "execution_count": null,
      "outputs": []
    },
    {
      "cell_type": "markdown",
      "source": [
        "* Thoughtful discussion of ethical concerns included\n",
        "* Ethical concerns consider the whole data science process (question asked, data collected, data being used, the bias in data, bias in observers and researchers, analysis, post-analysis, etc.)\n",
        "* How your group handled bias/ethical concerns should be clearly described\n",
        "Acknowledge and address any ethics & privacy related issues of your question(s), proposed dataset(s), and/or analyses. Use the information provided in lecture to guide your group discussion and thinking. If you need further guidance, check out Deon's Ethics Checklist. In particular:\n",
        "* Are there any biases/privacy/terms of use issues with the data you propsed?\n",
        "* Are there potential biases in your dataset(s), in terms of who it composes, and how it was collected, that may be problematic in terms of it allowing for unbiased analysis? (For example, does your data exclude particular populations, or is it likely to reflect particular human biases in a way that could be a problem?)\n",
        "* How will you set out to detect these specific biases before, during, and after/when communicating your analysis?\n",
        "* Are there any other issues related to your topic area, data, and/or analyses that are potentially problematic in terms of data ethics?\n",
        "* How will you handle issues you identified?\n",
        "\n",
        "1. Aim to focus on the data itself, we will not consider the human factors that can support or debunk our research. (ex. race, sex, religion and etc.)\n",
        "2. Provide extensional details on our project to prove reliable inferences.\n",
        "3. Only focusing on public secondary data to ensure the safety of our privacy.\n",
        "4. When researching data, we aim to find data that aren't objectively measured to our hypothesis. Only data measured in a direct administrative tool.\n",
        "5. Continuing to have an open mind. \"Correlation does not mean causation\".\n",
        "6. Keeping up to date with current news, methods, and feedback to ensure our data is as transparent as possible.\n",
        "7. Integrity, maintaining our responsibility as honest.\n",
        "8. In each meeting, we will engage in thorough discussions about potential ethical concerns related to the data science project. This includes considering the implications of the project on individuals, communities, and society as a whole.\n",
        "9. The potential biases that come with our research is the selection of our datasets. But mentioned in #2, we will find data that considers diversifying our data sources, including films from different regions, genres, and production scales.\n",
        "10. We will continue to seek guidance and oversight from professionals knowledgeable in data ethics, privacy, and related domains. Regularly reassess the ethical implications of the research and update practices as necessary."
      ],
      "metadata": {
        "id": "HgruFK_xeDjH"
      }
    },
    {
      "cell_type": "markdown",
      "source": [
        "# Team Expectations"
      ],
      "metadata": {
        "id": "t9cPtVVjeDlX"
      }
    },
    {
      "cell_type": "markdown",
      "source": [
        "Read over the COGS108 Team Policies individually. Then, include your group’s expectations of one another for successful completion of your COGS108 project below. Discuss and agree on what all of your expectations are. Discuss how your team will communicate throughout the quarter and consider how you will communicate respectfully should conflicts arise. By including each member’s name above and by adding their name to the submission, you are indicating that you have read the COGS108 Team Policies, accept your team’s expectations below, and have every intention to fulfill them. These expectations are for your team’s use and benefit — they won’t be graded for their details.\n",
        "\n",
        "* Everyone does relatively equal amount of work\n",
        "* Clear and effective communication between team members\n",
        "* Must meet at least once a week to work on project collectively\n",
        "* Stay on task and complete tasks by the timeline proposal\n",
        "* Stick to the responsibilites you are given and communicate if you cannot"
      ],
      "metadata": {
        "id": "SAKFwn0veDoL"
      }
    },
    {
      "cell_type": "markdown",
      "source": [
        "# Project Timeline Proposal"
      ],
      "metadata": {
        "id": "2tCk4jhceDrk"
      }
    },
    {
      "cell_type": "markdown",
      "source": [
        "Specify your team's project timeline. An example timeline has been provided. Changes the dates, times, names, and details to fit your group's plan.\n",
        "\n",
        "If you think you will need any special resources or training outside what we have covered in COGS 108 to solve your problem, then your proposal should state these clearly. For example, if you have selected a problem that involves implementing multiple neural networks, please state this so we can make sure you are on track for success and so we can point you to resources you will need to implement your project. Note that you are not required to use outside methods."
      ],
      "metadata": {
        "id": "1jma_9N0ey6U"
      }
    },
    {
      "cell_type": "markdown",
      "source": [
        "Specify your team's project timeline. An example timeline has been provided. Changes the dates, times, names, and details to fit your group's plan.\n",
        "\n",
        "If you think you will need any special resources or training outside what we have covered in COGS 108 to solve your problem, then your proposal should state these clearly. For example, if you have selected a problem that involves implementing multiple neural networks, please state this so we can make sure you are on track for success and so we can point you to resources you will need to implement your project. Note that you are not required to use outside methods.\n",
        "\n",
        "\n",
        "\n",
        "| Meeting Date  | Meeting Time| Completed Before Meeting  | Discuss at Meeting |\n",
        "|---|---|---|---|\n",
        "| 7/12  |  7 PM | Read & Think about COGS 108 expectations; brainstorm topics/questions  | Determine best form of communication; Discuss and decide on final project topic; discuss hypothesis; begin background research |\n",
        "| 7/13  |  7 PM |  Do background research on topic. Edit, finalize, and submit proposal; Search for datasets | Discuss ideal dataset(s) and ethics; draft project proposal. Discuss Wrangling and possible analytical approaches;|\n",
        "| 7/17  | 3 PM  | Import & Wrangle Data ; EDA | Review/Edit wrangling/EDA; Discuss Analysis Plan   |\n",
        "| 7/24  | 3 PM  | Finalize wrangling/EDA; Begin Analysis  | Discuss/edit Analysis; Complete project check-in |\n",
        "| 8/1  | 5 PM  | Complete analysis; Draft results/conclusion/discussion (Wasp)| Discuss/edit full project |\n",
        "| 8/2  | 3 PM  | Prepare for video presentations | Film video presentation |\n",
        "| 8/4  | Before 11:59 PM  | NA | Turn in Final Project & Group Project Surveys |\n",
        "\n",
        "\n"
      ],
      "metadata": {
        "id": "I6ExFiw7ey9K"
      }
    }
  ]
}